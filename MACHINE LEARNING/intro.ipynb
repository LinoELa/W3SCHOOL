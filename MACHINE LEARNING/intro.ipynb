{
 "cells": [
  {
   "cell_type": "markdown",
   "metadata": {},
   "source": [
    "DATA SET\n",
    "\n",
    "In the mind of a computer, a data set is any collection of data. It can be anything from an array to a complete database"
   ]
  },
  {
   "cell_type": "code",
   "execution_count": 1,
   "metadata": {},
   "outputs": [
    {
     "name": "stdout",
     "output_type": "stream",
     "text": [
      "hoo\n"
     ]
    }
   ],
   "source": [
    "# DATA SET\n",
    "\n"
   ]
  },
  {
   "cell_type": "code",
   "execution_count": 2,
   "metadata": {},
   "outputs": [
    {
     "name": "stdout",
     "output_type": "stream",
     "text": [
      "111\n",
      "77\n",
      "94.0\n"
     ]
    }
   ],
   "source": [
    "calculo = [99,86,87,88,111,86,103,87,94,78,77,85,86]\n",
    "\n",
    "print(max(calculo))\n",
    "print(min(calculo))\n",
    "\n",
    "x = max(calculo)\n",
    "y = min(calculo)\n",
    "\n",
    "final = ((x + y) / 2)\n",
    "\n",
    "print(final)"
   ]
  },
  {
   "cell_type": "markdown",
   "metadata": {},
   "source": [
    "In Machine Learning (and in mathematics) there are often three values that interests us:\n",
    "\n",
    "Mean - The average value\n",
    "Median - The mid point value\n",
    "Mode - The most common value"
   ]
  },
  {
   "cell_type": "code",
   "execution_count": 3,
   "metadata": {},
   "outputs": [],
   "source": [
    "# Ejemplo - Media - Mediana - Moda\n",
    "\n",
    "speed = [99,86,87,88,111,86,103,87,94,78,77,85,86]"
   ]
  },
  {
   "cell_type": "code",
   "execution_count": 4,
   "metadata": {},
   "outputs": [
    {
     "name": "stdout",
     "output_type": "stream",
     "text": [
      "89.76923076923077\n"
     ]
    }
   ],
   "source": [
    "# MEDIA - Valor MEDIO\n",
    "# Para calcular la media, halla la suma de todos los valores y\n",
    "#  divide la suma por el número de valores:\n",
    "\n",
    "# (99+86+87+88+111+86+103+87+94+78+77+85+86) / 13 = 89.77\n",
    "\n",
    "import numpy \n",
    "\n",
    "x = numpy.mean(speed)\n",
    "\n",
    "print(x)\n",
    "\n",
    "\n"
   ]
  },
  {
   "cell_type": "code",
   "execution_count": 5,
   "metadata": {},
   "outputs": [
    {
     "name": "stdout",
     "output_type": "stream",
     "text": [
      "87.0\n"
     ]
    }
   ],
   "source": [
    "#MEDIANA\n",
    "# La mediana es el valor que se encuentra en el centro, \n",
    "# después de haber ordenado todos los valores:\n",
    "\n",
    "# 77, 78, 85, 86, 86, 86, **87**, 87, 88, 94, 99, 103, 111\n",
    "\n",
    "#Es importante que los números estén ordenados antes de hallar la mediana.\n",
    "\n",
    "import numpy \n",
    "\n",
    "y = numpy.median(speed)\n",
    "\n",
    "print(y)\n",
    "\n",
    "# Si hay dos números en el medio, divide la suma de esos números por dos.\n",
    "# (86 + 87) / 2 = 86.5\n"
   ]
  },
  {
   "cell_type": "code",
   "execution_count": 9,
   "metadata": {},
   "outputs": [
    {
     "name": "stdout",
     "output_type": "stream",
     "text": [
      "ModeResult(mode=np.int64(86), count=np.int64(3))\n"
     ]
    }
   ],
   "source": [
    "# MODO\n",
    "\n",
    "# The Mode value is the value that appears the most number of times:\n",
    "# 99, 86, 87, 88, 111, 86, 103, 87, 94, 78, 77, 85, 86 = 86\n",
    "\n",
    "from scipy import stats\n",
    "\n",
    "z = stats.mode(speed)\n",
    "\n",
    "print(z)\n",
    "\n"
   ]
  },
  {
   "cell_type": "markdown",
   "metadata": {},
   "source": [
    "The Mean, Median, and Mode are techniques that are often used in Machine Learning, so it is important to understand the concept behind them.\n",
    "\n",
    "La Media, la Mediana y el Modo son técnicas que se utilizan a menudo en el Aprendizaje Automático, por lo que es importante entender el concepto que hay detrás de ellas."
   ]
  }
 ],
 "metadata": {
  "kernelspec": {
   "display_name": "LearnPython",
   "language": "python",
   "name": "python3"
  },
  "language_info": {
   "codemirror_mode": {
    "name": "ipython",
    "version": 3
   },
   "file_extension": ".py",
   "mimetype": "text/x-python",
   "name": "python",
   "nbconvert_exporter": "python",
   "pygments_lexer": "ipython3",
   "version": "3.12.5"
  }
 },
 "nbformat": 4,
 "nbformat_minor": 2
}
