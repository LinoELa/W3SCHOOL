{
 "cells": [
  {
   "cell_type": "markdown",
   "metadata": {},
   "source": [
    "DISPERCION - ESPARCIR \n",
    "\n",
    "\n",
    " scatter plot is a diagram where each value in the data set is represented by a dot."
   ]
  },
  {
   "cell_type": "code",
   "execution_count": null,
   "metadata": {},
   "outputs": [],
   "source": [
    "import matplotlib.pyplot as plt\n",
    "\n",
    "x = [5,7,8,7,2,17,2,9,4,11,12,9,6]\n",
    "y = [99,86,87,88,111,86,103,87,94,78,77,85,86]\n",
    "\n",
    "plt.scatter(x, y)\n",
    "plt.show()"
   ]
  },
  {
   "cell_type": "markdown",
   "metadata": {},
   "source": [
    "Explicación del diagrama de dispersión\n",
    "El eje x representa las edades y el eje y representa las velocidades.\n",
    "\n",
    "Lo que podemos leer en el diagrama es que los dos coches más rápidos tenían 2 años, y el más lento 12 años.\n",
    "\n",
    "Nota: parece que cuanto más nuevo es el coche, más rápido circula, pero podría ser una coincidencia, después de todo sólo hemos registrado 13 coches."
   ]
  }
 ],
 "metadata": {
  "kernelspec": {
   "display_name": "LearnPython",
   "language": "python",
   "name": "python3"
  },
  "language_info": {
   "name": "python",
   "version": "3.12.5"
  }
 },
 "nbformat": 4,
 "nbformat_minor": 2
}
