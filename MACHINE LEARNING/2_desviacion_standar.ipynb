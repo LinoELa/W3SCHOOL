{
 "cells": [
  {
   "cell_type": "markdown",
   "metadata": {},
   "source": [
    "DESVIACION ESTANDAR O TIPICA\n",
    "\n",
    "La desviación estandar es un número que describe la dispersión de los valores.\n",
    "\n",
    "Una desviación estandar baja significa que la mayoría de las cifras están próximas al valor medio (promedio).\n",
    "\n",
    "Una desviación estandar alta significa que los valores están repartidos en un rango más amplio.\n"
   ]
  },
  {
   "cell_type": "code",
   "execution_count": null,
   "metadata": {},
   "outputs": [],
   "source": [
    "speed = [86,87,88,86,87,85,86]\n",
    "\n",
    "# deviacion estandar = 0.9\n",
    "\n",
    "# Esto significa que la mayoría de los valores están dentro del intervalo \n",
    "# de 0,9 del valor medio, que es 86,4."
   ]
  },
  {
   "cell_type": "code",
   "execution_count": 1,
   "metadata": {},
   "outputs": [],
   "source": [
    "speed = [32,111,138,28,59,77,97]\n",
    "\n",
    "# deviacion estandar = 37.85\n",
    "\n",
    "# Esto significa que la mayoría de los valores están dentro del intervalo de 37,85 \n",
    "# del valor medio, que es 77,4.\n",
    "\n",
    "# Como puede ver, una desviación típica más alta indica que los valores están repartidos \n",
    "# en un intervalo más amplio.\n"
   ]
  },
  {
   "cell_type": "code",
   "execution_count": 2,
   "metadata": {},
   "outputs": [
    {
     "name": "stdout",
     "output_type": "stream",
     "text": [
      "37.84501153334721\n"
     ]
    }
   ],
   "source": [
    "# Ejemplo \n",
    "\n",
    "import numpy as np \n",
    "\n",
    "x = np.std(speed)\n",
    "\n",
    "print(x)"
   ]
  },
  {
   "cell_type": "markdown",
   "metadata": {},
   "source": [
    "VARIACION - - VARIANCE\n",
    "\n",
    "La varianza O desviacion es otra cifra que indica la dispersión de los valores.\n",
    "\n",
    "De hecho, si se saca la raíz cuadrada de la varianza, se obtiene la desviación típica.\n",
    "\n",
    "O al revés, si se multiplica la desviación estandar por sí misma, se obtiene la varianza.\n",
    "\n",
    "\n",
    "\n"
   ]
  },
  {
   "cell_type": "code",
   "execution_count": 3,
   "metadata": {},
   "outputs": [
    {
     "name": "stdout",
     "output_type": "stream",
     "text": [
      "1432.2448979591834\n"
     ]
    }
   ],
   "source": [
    "# PARA CALCULAR LA VARIACION\n",
    "\n",
    "# 1. Encuentra la media  \n",
    "# (32+111+138+28+59+77+97) / 7 = 77.4\n",
    "\n",
    "#2 For each value: find the difference from the mean:\n",
    "# 32 - 77.4 = -45.4\n",
    "# 111 - 77.4 =  33.6\n",
    "# 138 - 77.4 =  60.6\n",
    "# 28 - 77.4 = -49.4\n",
    "# 59 - 77.4 = -18.4\n",
    "# 77 - 77.4 = - 0.4\n",
    "# 97 - 77.4 =  19.6\n",
    "\n",
    "#3 For each difference: find the square value:\n",
    "\n",
    "# (-45.4)2 = 2061.16\n",
    "# (33.6)2 = 1128.96\n",
    "# (60.6)2 = 3672.36\n",
    "# (-49.4)2 = 2440.36\n",
    "# (-18.4)2 =  338.56\n",
    "# (- 0.4)2 =    0.16\n",
    "# (19.6)2 =  384.16\n",
    "\n",
    "#4 The variance is the average number of these squared differences:\n",
    "\n",
    "# (2061.16+1128.96+3672.36+2440.36+338.56+0.16+384.16) / 7 = 1432.2\n",
    "\n",
    "\n",
    "y = np.var(speed)\n",
    "\n",
    "print(y)"
   ]
  },
  {
   "cell_type": "markdown",
   "metadata": {},
   "source": [
    "The Standard Deviation and Variance are terms that are often used in Machine Learning, so it is important to understand how to get them, and the concept behind them.\n",
    "\n",
    "La Desviación Estándar y la Varianza son términos que se utilizan a menudo en el Aprendizaje Automático, por lo que es importante entender cómo obtenerlos, y el concepto que hay detrás de ellos."
   ]
  }
 ],
 "metadata": {
  "kernelspec": {
   "display_name": "LearnPython",
   "language": "python",
   "name": "python3"
  },
  "language_info": {
   "codemirror_mode": {
    "name": "ipython",
    "version": 3
   },
   "file_extension": ".py",
   "mimetype": "text/x-python",
   "name": "python",
   "nbconvert_exporter": "python",
   "pygments_lexer": "ipython3",
   "version": "3.12.5"
  }
 },
 "nbformat": 4,
 "nbformat_minor": 2
}
